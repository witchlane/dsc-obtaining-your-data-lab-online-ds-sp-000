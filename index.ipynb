{
 "cells": [
  {
   "cell_type": "markdown",
   "metadata": {},
   "source": [
    "# Obtaining Your Data - Lab"
   ]
  },
  {
   "cell_type": "markdown",
   "metadata": {},
   "source": [
    "## Introduction\n",
    "In this lab you'll practice your munging and transforming skills in order to load in your data to solve a regression problem."
   ]
  },
  {
   "cell_type": "markdown",
   "metadata": {},
   "source": [
    "## Objectives\n",
    "You will be able to:\n",
    "* Understand the ETL process and the steps it consists of\n",
    "* Understand the challenges of working with data from multiple sources "
   ]
  },
  {
   "cell_type": "markdown",
   "metadata": {},
   "source": [
    "## Task Description\n",
    "\n",
    "You just got hired by Lego! Your first project is going to be to develop a pricing algorithm to help set a target price for new lego sets that are released to market. To do this, you're first going to need to start mining the company database in order to collect the information you need to develop a model.\n",
    "\n",
    "Start by investigating the database stored in lego.db and joining the tables into a unified dataset!\n",
    "\n",
    "> **Hint:** use this sql statement to preview the tables in an unknown database:\n",
    "```sql\n",
    "SELECT name FROM sqlite_master\n",
    "             WHERE type='table'\n",
    "             ORDER BY name;\n",
    "```"
   ]
  },
  {
   "cell_type": "code",
   "execution_count": 2,
   "metadata": {},
   "outputs": [
    {
     "data": {
      "text/plain": [
       "[('product_details',),\n",
       " ('product_info',),\n",
       " ('product_pricing',),\n",
       " ('product_reviews',)]"
      ]
     },
     "execution_count": 2,
     "metadata": {},
     "output_type": "execute_result"
    }
   ],
   "source": [
    "# Your code here\n",
    "import sqlite3\n",
    "import pandas as pd\n",
    "\n",
    "#create a connection\n",
    "con = sqlite3.connect('lego.db')\n",
    "#create a cursor\n",
    "cur = con.cursor()\n",
    "# select lego db\n",
    "cur.execute(\"\"\"SELECT name FROM sqlite_master WHERE type='table' ORDER BY name;\"\"\"\"\").fetchall()"
   ]
  },
  {
   "cell_type": "code",
   "execution_count": 3,
   "metadata": {},
   "outputs": [
    {
     "name": "stdout",
     "output_type": "stream",
     "text": [
      "(744, 4)\n"
     ]
    },
    {
     "data": {
      "text/html": [
       "<div>\n",
       "<style scoped>\n",
       "    .dataframe tbody tr th:only-of-type {\n",
       "        vertical-align: middle;\n",
       "    }\n",
       "\n",
       "    .dataframe tbody tr th {\n",
       "        vertical-align: top;\n",
       "    }\n",
       "\n",
       "    .dataframe thead th {\n",
       "        text-align: right;\n",
       "    }\n",
       "</style>\n",
       "<table border=\"1\" class=\"dataframe\">\n",
       "  <thead>\n",
       "    <tr style=\"text-align: right;\">\n",
       "      <th></th>\n",
       "      <th>prod_id</th>\n",
       "      <th>prod_desc</th>\n",
       "      <th>prod_long_desc</th>\n",
       "      <th>theme_name</th>\n",
       "    </tr>\n",
       "  </thead>\n",
       "  <tbody>\n",
       "    <tr>\n",
       "      <th>0</th>\n",
       "      <td>630</td>\n",
       "      <td>blah</td>\n",
       "      <td>blahblah</td>\n",
       "      <td>Classic</td>\n",
       "    </tr>\n",
       "    <tr>\n",
       "      <th>1</th>\n",
       "      <td>2304</td>\n",
       "      <td>blah</td>\n",
       "      <td>blahblah</td>\n",
       "      <td>DUPLO®</td>\n",
       "    </tr>\n",
       "    <tr>\n",
       "      <th>2</th>\n",
       "      <td>7280</td>\n",
       "      <td>blah</td>\n",
       "      <td>blahblah</td>\n",
       "      <td>City</td>\n",
       "    </tr>\n",
       "    <tr>\n",
       "      <th>3</th>\n",
       "      <td>7281</td>\n",
       "      <td>blah</td>\n",
       "      <td>blahblah</td>\n",
       "      <td>City</td>\n",
       "    </tr>\n",
       "    <tr>\n",
       "      <th>4</th>\n",
       "      <td>7499</td>\n",
       "      <td>blah</td>\n",
       "      <td>blahblah</td>\n",
       "      <td>City</td>\n",
       "    </tr>\n",
       "  </tbody>\n",
       "</table>\n",
       "</div>"
      ],
      "text/plain": [
       "   prod_id prod_desc prod_long_desc theme_name\n",
       "0      630      blah       blahblah    Classic\n",
       "1     2304      blah       blahblah     DUPLO®\n",
       "2     7280      blah       blahblah       City\n",
       "3     7281      blah       blahblah       City\n",
       "4     7499      blah       blahblah       City"
      ]
     },
     "execution_count": 3,
     "metadata": {},
     "output_type": "execute_result"
    }
   ],
   "source": [
    "#select some data from product_details\n",
    "cur.execute(\"\"\"SELECT * FROM product_details;\"\"\")\n",
    "df_prod_details = pd.DataFrame(cur.fetchall())\n",
    "df_prod_details.columns = [i[0] for i in cur.description]\n",
    "print(df_prod_details.shape)\n",
    "df_prod_details.head()"
   ]
  },
  {
   "cell_type": "code",
   "execution_count": 5,
   "metadata": {},
   "outputs": [
    {
     "name": "stdout",
     "output_type": "stream",
     "text": [
      "<class 'pandas.core.frame.DataFrame'>\n",
      "RangeIndex: 744 entries, 0 to 743\n",
      "Data columns (total 4 columns):\n",
      "prod_id           744 non-null int64\n",
      "prod_desc         744 non-null object\n",
      "prod_long_desc    744 non-null object\n",
      "theme_name        744 non-null object\n",
      "dtypes: int64(1), object(3)\n",
      "memory usage: 23.3+ KB\n"
     ]
    }
   ],
   "source": [
    "df_prod_details.info()"
   ]
  },
  {
   "cell_type": "code",
   "execution_count": 4,
   "metadata": {},
   "outputs": [
    {
     "name": "stdout",
     "output_type": "stream",
     "text": [
      "(744, 4)\n"
     ]
    },
    {
     "data": {
      "text/html": [
       "<div>\n",
       "<style scoped>\n",
       "    .dataframe tbody tr th:only-of-type {\n",
       "        vertical-align: middle;\n",
       "    }\n",
       "\n",
       "    .dataframe tbody tr th {\n",
       "        vertical-align: top;\n",
       "    }\n",
       "\n",
       "    .dataframe thead th {\n",
       "        text-align: right;\n",
       "    }\n",
       "</style>\n",
       "<table border=\"1\" class=\"dataframe\">\n",
       "  <thead>\n",
       "    <tr style=\"text-align: right;\">\n",
       "      <th></th>\n",
       "      <th>prod_id</th>\n",
       "      <th>ages</th>\n",
       "      <th>piece_count</th>\n",
       "      <th>set_name</th>\n",
       "    </tr>\n",
       "  </thead>\n",
       "  <tbody>\n",
       "    <tr>\n",
       "      <th>0</th>\n",
       "      <td>630</td>\n",
       "      <td>4+</td>\n",
       "      <td>1</td>\n",
       "      <td>Brick Separator</td>\n",
       "    </tr>\n",
       "    <tr>\n",
       "      <th>1</th>\n",
       "      <td>2304</td>\n",
       "      <td>1½-5</td>\n",
       "      <td>1</td>\n",
       "      <td>LEGO® DUPLO® Green Baseplate</td>\n",
       "    </tr>\n",
       "    <tr>\n",
       "      <th>2</th>\n",
       "      <td>7280</td>\n",
       "      <td>5-12</td>\n",
       "      <td>2</td>\n",
       "      <td>Straight &amp; Crossroad Plates</td>\n",
       "    </tr>\n",
       "    <tr>\n",
       "      <th>3</th>\n",
       "      <td>7281</td>\n",
       "      <td>5-12</td>\n",
       "      <td>2</td>\n",
       "      <td>T-Junction &amp; Curved Road Plates</td>\n",
       "    </tr>\n",
       "    <tr>\n",
       "      <th>4</th>\n",
       "      <td>7499</td>\n",
       "      <td>5-12</td>\n",
       "      <td>24</td>\n",
       "      <td>Flexible and Straight Tracks</td>\n",
       "    </tr>\n",
       "  </tbody>\n",
       "</table>\n",
       "</div>"
      ],
      "text/plain": [
       "   prod_id  ages  piece_count                         set_name\n",
       "0      630    4+            1                  Brick Separator\n",
       "1     2304  1½-5            1     LEGO® DUPLO® Green Baseplate\n",
       "2     7280  5-12            2      Straight & Crossroad Plates\n",
       "3     7281  5-12            2  T-Junction & Curved Road Plates\n",
       "4     7499  5-12           24     Flexible and Straight Tracks"
      ]
     },
     "execution_count": 4,
     "metadata": {},
     "output_type": "execute_result"
    }
   ],
   "source": [
    "#select some data from product_info\n",
    "cur.execute(\"\"\"SELECT * FROM product_info;\"\"\")\n",
    "df_prod_info = pd.DataFrame(cur.fetchall())\n",
    "df_prod_info.columns = [i[0] for i in cur.description]\n",
    "print(df_prod_info.shape)\n",
    "df_prod_info.head()"
   ]
  },
  {
   "cell_type": "code",
   "execution_count": 6,
   "metadata": {},
   "outputs": [
    {
     "name": "stdout",
     "output_type": "stream",
     "text": [
      "<class 'pandas.core.frame.DataFrame'>\n",
      "RangeIndex: 744 entries, 0 to 743\n",
      "Data columns (total 4 columns):\n",
      "prod_id        744 non-null int64\n",
      "ages           744 non-null object\n",
      "piece_count    744 non-null int64\n",
      "set_name       744 non-null object\n",
      "dtypes: int64(2), object(2)\n",
      "memory usage: 23.3+ KB\n"
     ]
    }
   ],
   "source": [
    "df_prod_info.info()"
   ]
  },
  {
   "cell_type": "code",
   "execution_count": 7,
   "metadata": {},
   "outputs": [
    {
     "name": "stdout",
     "output_type": "stream",
     "text": [
      "(10870, 3)\n"
     ]
    },
    {
     "data": {
      "text/html": [
       "<div>\n",
       "<style scoped>\n",
       "    .dataframe tbody tr th:only-of-type {\n",
       "        vertical-align: middle;\n",
       "    }\n",
       "\n",
       "    .dataframe tbody tr th {\n",
       "        vertical-align: top;\n",
       "    }\n",
       "\n",
       "    .dataframe thead th {\n",
       "        text-align: right;\n",
       "    }\n",
       "</style>\n",
       "<table border=\"1\" class=\"dataframe\">\n",
       "  <thead>\n",
       "    <tr style=\"text-align: right;\">\n",
       "      <th></th>\n",
       "      <th>prod_id</th>\n",
       "      <th>country</th>\n",
       "      <th>list_price</th>\n",
       "    </tr>\n",
       "  </thead>\n",
       "  <tbody>\n",
       "    <tr>\n",
       "      <th>0</th>\n",
       "      <td>75823</td>\n",
       "      <td>US</td>\n",
       "      <td>29.99</td>\n",
       "    </tr>\n",
       "    <tr>\n",
       "      <th>1</th>\n",
       "      <td>75822</td>\n",
       "      <td>US</td>\n",
       "      <td>19.99</td>\n",
       "    </tr>\n",
       "    <tr>\n",
       "      <th>2</th>\n",
       "      <td>75821</td>\n",
       "      <td>US</td>\n",
       "      <td>12.99</td>\n",
       "    </tr>\n",
       "    <tr>\n",
       "      <th>3</th>\n",
       "      <td>21030</td>\n",
       "      <td>US</td>\n",
       "      <td>99.99</td>\n",
       "    </tr>\n",
       "    <tr>\n",
       "      <th>4</th>\n",
       "      <td>21035</td>\n",
       "      <td>US</td>\n",
       "      <td>79.99</td>\n",
       "    </tr>\n",
       "  </tbody>\n",
       "</table>\n",
       "</div>"
      ],
      "text/plain": [
       "   prod_id country list_price\n",
       "0    75823      US      29.99\n",
       "1    75822      US      19.99\n",
       "2    75821      US      12.99\n",
       "3    21030      US      99.99\n",
       "4    21035      US      79.99"
      ]
     },
     "execution_count": 7,
     "metadata": {},
     "output_type": "execute_result"
    }
   ],
   "source": [
    "#select some data from product_pricing\n",
    "cur.execute(\"\"\"SELECT * FROM product_pricing;\"\"\")\n",
    "df_prod_pricing = pd.DataFrame(cur.fetchall())\n",
    "df_prod_pricing.columns = [i[0] for i in cur.description]\n",
    "print(df_prod_pricing.shape)\n",
    "df_prod_pricing.head()"
   ]
  },
  {
   "cell_type": "code",
   "execution_count": 8,
   "metadata": {},
   "outputs": [
    {
     "name": "stdout",
     "output_type": "stream",
     "text": [
      "<class 'pandas.core.frame.DataFrame'>\n",
      "RangeIndex: 10870 entries, 0 to 10869\n",
      "Data columns (total 3 columns):\n",
      "prod_id       10870 non-null int64\n",
      "country       10870 non-null object\n",
      "list_price    10870 non-null object\n",
      "dtypes: int64(1), object(2)\n",
      "memory usage: 254.8+ KB\n"
     ]
    }
   ],
   "source": [
    "df_prod_pricing.info()"
   ]
  },
  {
   "cell_type": "code",
   "execution_count": 9,
   "metadata": {},
   "outputs": [
    {
     "name": "stdout",
     "output_type": "stream",
     "text": [
      "(744, 6)\n"
     ]
    },
    {
     "data": {
      "text/html": [
       "<div>\n",
       "<style scoped>\n",
       "    .dataframe tbody tr th:only-of-type {\n",
       "        vertical-align: middle;\n",
       "    }\n",
       "\n",
       "    .dataframe tbody tr th {\n",
       "        vertical-align: top;\n",
       "    }\n",
       "\n",
       "    .dataframe thead th {\n",
       "        text-align: right;\n",
       "    }\n",
       "</style>\n",
       "<table border=\"1\" class=\"dataframe\">\n",
       "  <thead>\n",
       "    <tr style=\"text-align: right;\">\n",
       "      <th></th>\n",
       "      <th>prod_id</th>\n",
       "      <th>num_reviews</th>\n",
       "      <th>play_star_rating</th>\n",
       "      <th>review_difficulty</th>\n",
       "      <th>star_rating</th>\n",
       "      <th>val_star_rating</th>\n",
       "    </tr>\n",
       "  </thead>\n",
       "  <tbody>\n",
       "    <tr>\n",
       "      <th>0</th>\n",
       "      <td>630</td>\n",
       "      <td>180.0</td>\n",
       "      <td>4.0</td>\n",
       "      <td>Very Easy</td>\n",
       "      <td>4.8</td>\n",
       "      <td>4.6</td>\n",
       "    </tr>\n",
       "    <tr>\n",
       "      <th>1</th>\n",
       "      <td>2304</td>\n",
       "      <td>15.0</td>\n",
       "      <td>4.4</td>\n",
       "      <td>Easy</td>\n",
       "      <td>4.0</td>\n",
       "      <td>3.3</td>\n",
       "    </tr>\n",
       "    <tr>\n",
       "      <th>2</th>\n",
       "      <td>7280</td>\n",
       "      <td>85.0</td>\n",
       "      <td>4.1</td>\n",
       "      <td>Very Easy</td>\n",
       "      <td>3.5</td>\n",
       "      <td>2.3</td>\n",
       "    </tr>\n",
       "    <tr>\n",
       "      <th>3</th>\n",
       "      <td>7281</td>\n",
       "      <td>40.0</td>\n",
       "      <td>4.1</td>\n",
       "      <td>Very Easy</td>\n",
       "      <td>3.9</td>\n",
       "      <td>2.8</td>\n",
       "    </tr>\n",
       "    <tr>\n",
       "      <th>4</th>\n",
       "      <td>7499</td>\n",
       "      <td>89.0</td>\n",
       "      <td>2.9</td>\n",
       "      <td>Easy</td>\n",
       "      <td>2.5</td>\n",
       "      <td>2.2</td>\n",
       "    </tr>\n",
       "  </tbody>\n",
       "</table>\n",
       "</div>"
      ],
      "text/plain": [
       "   prod_id  num_reviews  play_star_rating review_difficulty  star_rating  \\\n",
       "0      630        180.0               4.0         Very Easy          4.8   \n",
       "1     2304         15.0               4.4              Easy          4.0   \n",
       "2     7280         85.0               4.1         Very Easy          3.5   \n",
       "3     7281         40.0               4.1         Very Easy          3.9   \n",
       "4     7499         89.0               2.9              Easy          2.5   \n",
       "\n",
       "   val_star_rating  \n",
       "0              4.6  \n",
       "1              3.3  \n",
       "2              2.3  \n",
       "3              2.8  \n",
       "4              2.2  "
      ]
     },
     "execution_count": 9,
     "metadata": {},
     "output_type": "execute_result"
    }
   ],
   "source": [
    "#select some data from product_reviews\n",
    "cur.execute(\"\"\"SELECT * FROM product_reviews;\"\"\")\n",
    "df_prod_reviews = pd.DataFrame(cur.fetchall())\n",
    "df_prod_reviews.columns = [i[0] for i in cur.description]\n",
    "print(df_prod_reviews.shape)\n",
    "df_prod_reviews.head()"
   ]
  },
  {
   "cell_type": "code",
   "execution_count": 10,
   "metadata": {},
   "outputs": [
    {
     "name": "stdout",
     "output_type": "stream",
     "text": [
      "<class 'pandas.core.frame.DataFrame'>\n",
      "RangeIndex: 744 entries, 0 to 743\n",
      "Data columns (total 6 columns):\n",
      "prod_id              744 non-null int64\n",
      "num_reviews          655 non-null float64\n",
      "play_star_rating     648 non-null float64\n",
      "review_difficulty    744 non-null object\n",
      "star_rating          655 non-null float64\n",
      "val_star_rating      647 non-null float64\n",
      "dtypes: float64(4), int64(1), object(1)\n",
      "memory usage: 35.0+ KB\n"
     ]
    }
   ],
   "source": [
    "df_prod_reviews.info()"
   ]
  },
  {
   "cell_type": "code",
   "execution_count": 13,
   "metadata": {},
   "outputs": [],
   "source": [
    "#merge all four tables together\n",
    "merged_lego = pd.merge(pd.merge(pd.merge(df_prod_details, df_prod_info, on='prod_id'), df_prod_pricing, on='prod_id'), df_prod_reviews, on='prod_id')"
   ]
  },
  {
   "cell_type": "code",
   "execution_count": 14,
   "metadata": {},
   "outputs": [
    {
     "data": {
      "text/html": [
       "<div>\n",
       "<style scoped>\n",
       "    .dataframe tbody tr th:only-of-type {\n",
       "        vertical-align: middle;\n",
       "    }\n",
       "\n",
       "    .dataframe tbody tr th {\n",
       "        vertical-align: top;\n",
       "    }\n",
       "\n",
       "    .dataframe thead th {\n",
       "        text-align: right;\n",
       "    }\n",
       "</style>\n",
       "<table border=\"1\" class=\"dataframe\">\n",
       "  <thead>\n",
       "    <tr style=\"text-align: right;\">\n",
       "      <th></th>\n",
       "      <th>prod_id</th>\n",
       "      <th>prod_desc</th>\n",
       "      <th>prod_long_desc</th>\n",
       "      <th>theme_name</th>\n",
       "      <th>ages</th>\n",
       "      <th>piece_count</th>\n",
       "      <th>set_name</th>\n",
       "      <th>country</th>\n",
       "      <th>list_price</th>\n",
       "      <th>num_reviews</th>\n",
       "      <th>play_star_rating</th>\n",
       "      <th>review_difficulty</th>\n",
       "      <th>star_rating</th>\n",
       "      <th>val_star_rating</th>\n",
       "    </tr>\n",
       "  </thead>\n",
       "  <tbody>\n",
       "    <tr>\n",
       "      <th>0</th>\n",
       "      <td>630</td>\n",
       "      <td>blah</td>\n",
       "      <td>blahblah</td>\n",
       "      <td>Classic</td>\n",
       "      <td>4+</td>\n",
       "      <td>1</td>\n",
       "      <td>Brick Separator</td>\n",
       "      <td>US</td>\n",
       "      <td>2.49</td>\n",
       "      <td>180.0</td>\n",
       "      <td>4.0</td>\n",
       "      <td>Very Easy</td>\n",
       "      <td>4.8</td>\n",
       "      <td>4.6</td>\n",
       "    </tr>\n",
       "    <tr>\n",
       "      <th>1</th>\n",
       "      <td>630</td>\n",
       "      <td>blah</td>\n",
       "      <td>blahblah</td>\n",
       "      <td>Classic</td>\n",
       "      <td>4+</td>\n",
       "      <td>1</td>\n",
       "      <td>Brick Separator</td>\n",
       "      <td>AU</td>\n",
       "      <td>2.2724</td>\n",
       "      <td>180.0</td>\n",
       "      <td>4.0</td>\n",
       "      <td>Very Easy</td>\n",
       "      <td>4.8</td>\n",
       "      <td>4.6</td>\n",
       "    </tr>\n",
       "    <tr>\n",
       "      <th>2</th>\n",
       "      <td>630</td>\n",
       "      <td>blah</td>\n",
       "      <td>blahblah</td>\n",
       "      <td>Classic</td>\n",
       "      <td>4+</td>\n",
       "      <td>1</td>\n",
       "      <td>Brick Separator</td>\n",
       "      <td>AT</td>\n",
       "      <td>3.0378000000000003</td>\n",
       "      <td>180.0</td>\n",
       "      <td>4.0</td>\n",
       "      <td>Very Easy</td>\n",
       "      <td>4.8</td>\n",
       "      <td>4.6</td>\n",
       "    </tr>\n",
       "    <tr>\n",
       "      <th>3</th>\n",
       "      <td>630</td>\n",
       "      <td>blah</td>\n",
       "      <td>blahblah</td>\n",
       "      <td>Classic</td>\n",
       "      <td>4+</td>\n",
       "      <td>1</td>\n",
       "      <td>Brick Separator</td>\n",
       "      <td>BE</td>\n",
       "      <td>3.0378000000000003</td>\n",
       "      <td>180.0</td>\n",
       "      <td>4.0</td>\n",
       "      <td>Very Easy</td>\n",
       "      <td>4.8</td>\n",
       "      <td>4.6</td>\n",
       "    </tr>\n",
       "    <tr>\n",
       "      <th>4</th>\n",
       "      <td>630</td>\n",
       "      <td>blah</td>\n",
       "      <td>blahblah</td>\n",
       "      <td>Classic</td>\n",
       "      <td>4+</td>\n",
       "      <td>1</td>\n",
       "      <td>Brick Separator</td>\n",
       "      <td>CA</td>\n",
       "      <td>2.3322000000000003</td>\n",
       "      <td>180.0</td>\n",
       "      <td>4.0</td>\n",
       "      <td>Very Easy</td>\n",
       "      <td>4.8</td>\n",
       "      <td>4.6</td>\n",
       "    </tr>\n",
       "  </tbody>\n",
       "</table>\n",
       "</div>"
      ],
      "text/plain": [
       "   prod_id prod_desc prod_long_desc theme_name ages  piece_count  \\\n",
       "0      630      blah       blahblah    Classic   4+            1   \n",
       "1      630      blah       blahblah    Classic   4+            1   \n",
       "2      630      blah       blahblah    Classic   4+            1   \n",
       "3      630      blah       blahblah    Classic   4+            1   \n",
       "4      630      blah       blahblah    Classic   4+            1   \n",
       "\n",
       "          set_name country          list_price  num_reviews  play_star_rating  \\\n",
       "0  Brick Separator      US                2.49        180.0               4.0   \n",
       "1  Brick Separator      AU              2.2724        180.0               4.0   \n",
       "2  Brick Separator      AT  3.0378000000000003        180.0               4.0   \n",
       "3  Brick Separator      BE  3.0378000000000003        180.0               4.0   \n",
       "4  Brick Separator      CA  2.3322000000000003        180.0               4.0   \n",
       "\n",
       "  review_difficulty  star_rating  val_star_rating  \n",
       "0         Very Easy          4.8              4.6  \n",
       "1         Very Easy          4.8              4.6  \n",
       "2         Very Easy          4.8              4.6  \n",
       "3         Very Easy          4.8              4.6  \n",
       "4         Very Easy          4.8              4.6  "
      ]
     },
     "execution_count": 14,
     "metadata": {},
     "output_type": "execute_result"
    }
   ],
   "source": [
    "merged_lego.head()"
   ]
  },
  {
   "cell_type": "code",
   "execution_count": 15,
   "metadata": {},
   "outputs": [
    {
     "data": {
      "text/plain": [
       "(10870, 14)"
      ]
     },
     "execution_count": 15,
     "metadata": {},
     "output_type": "execute_result"
    }
   ],
   "source": [
    "merged_lego.shape"
   ]
  },
  {
   "cell_type": "code",
   "execution_count": 16,
   "metadata": {},
   "outputs": [
    {
     "name": "stdout",
     "output_type": "stream",
     "text": [
      "<class 'pandas.core.frame.DataFrame'>\n",
      "Int64Index: 10870 entries, 0 to 10869\n",
      "Data columns (total 14 columns):\n",
      "prod_id              10870 non-null int64\n",
      "prod_desc            10870 non-null object\n",
      "prod_long_desc       10870 non-null object\n",
      "theme_name           10870 non-null object\n",
      "ages                 10870 non-null object\n",
      "piece_count          10870 non-null int64\n",
      "set_name             10870 non-null object\n",
      "country              10870 non-null object\n",
      "list_price           10870 non-null object\n",
      "num_reviews          9449 non-null float64\n",
      "play_star_rating     9321 non-null float64\n",
      "review_difficulty    10870 non-null object\n",
      "star_rating          9449 non-null float64\n",
      "val_star_rating      9301 non-null float64\n",
      "dtypes: float64(4), int64(2), object(8)\n",
      "memory usage: 1.2+ MB\n"
     ]
    }
   ],
   "source": [
    "merged_lego.info()"
   ]
  },
  {
   "cell_type": "code",
   "execution_count": 17,
   "metadata": {},
   "outputs": [],
   "source": [
    "merged_lego.to_csv('merged_lego_dataset.csv', index=False)"
   ]
  },
  {
   "cell_type": "markdown",
   "metadata": {},
   "source": [
    "## Summary\n",
    "Nice work! You're working more and more independently through the workflow and ensuring data integrity!"
   ]
  }
 ],
 "metadata": {
  "kernelspec": {
   "display_name": "learn-env",
   "language": "python",
   "name": "learn-env"
  },
  "language_info": {
   "codemirror_mode": {
    "name": "ipython",
    "version": 3
   },
   "file_extension": ".py",
   "mimetype": "text/x-python",
   "name": "python",
   "nbconvert_exporter": "python",
   "pygments_lexer": "ipython3",
   "version": "3.6.6"
  }
 },
 "nbformat": 4,
 "nbformat_minor": 2
}
